{
 "cells": [
  {
   "cell_type": "markdown",
   "metadata": {},
   "source": [
    "# IT309 - Assignment 6: Hashing\n",
    "## Daniel Lee"
   ]
  },
  {
   "cell_type": "code",
   "execution_count": 1,
   "metadata": {},
   "outputs": [],
   "source": [
    "HTcapacity = 99 # sets the hash table size 99 slots\n",
    "HT = [None]*HTcapacity # creates hash table as a python list of size. indexed 0-98\n",
    "multFactor = 431 # prime num"
   ]
  },
  {
   "cell_type": "code",
   "execution_count": 2,
   "metadata": {},
   "outputs": [
    {
     "data": {
      "text/plain": [
       "99"
      ]
     },
     "execution_count": 2,
     "metadata": {},
     "output_type": "execute_result"
    }
   ],
   "source": [
    "len(HT)"
   ]
  },
  {
   "cell_type": "markdown",
   "metadata": {},
   "source": [
    "### Read the input file and convert the 'I' records to a list"
   ]
  },
  {
   "cell_type": "code",
   "execution_count": 3,
   "metadata": {},
   "outputs": [
    {
     "name": "stdout",
     "output_type": "stream",
     "text": [
      "90\n",
      "I,Rizzo,Mike,1962,M,PhEd\n",
      "      \n",
      "\n",
      "I,Warden,Jackie,1998,F,Math\n",
      "\n"
     ]
    }
   ],
   "source": [
    "fname = '2020-10-27-A6-Hash-Input.txt' # <- insert text file name here\n",
    "f = open(fname, 'r')\n",
    "a6input = f.readlines()\n",
    "f.close()\n",
    "print(len(a6input))\n",
    "print(a6input[0], '    ', a6input[-1])\n",
    "print(a6input[84])\n"
   ]
  },
  {
   "cell_type": "code",
   "execution_count": 4,
   "metadata": {},
   "outputs": [
    {
     "name": "stdout",
     "output_type": "stream",
     "text": [
      "90\n",
      "['I', 'Rizzo', 'Mike', '1962', 'M', 'PhEd\\n'] ['\\n']\n"
     ]
    }
   ],
   "source": [
    "inlists = []\n",
    "for n in a6input:\n",
    "    inlists.append(n.split(','))\n",
    "print(len(inlists))\n",
    "print(inlists[0], inlists[-1])\n"
   ]
  },
  {
   "cell_type": "markdown",
   "metadata": {},
   "source": [
    "### 'Hash' function performs the computation of the hash code and compression to the table size"
   ]
  },
  {
   "cell_type": "code",
   "execution_count": 5,
   "metadata": {},
   "outputs": [],
   "source": [
    "def Hash (inline, mFactor = 7371): #1123\n",
    "    \"\"\"Hash function - takes and input line and returns the HT code.\"\"\"\n",
    "    instring = ''\n",
    "    for n in range(1, len(inline)):\n",
    "        instring = instring + str(inline[n])\n",
    "    Hcode = 0\n",
    "    for c in instring[:-1]: # H1: converting characters from all characters into a number\n",
    "        Hcode += ord(c) # adds unicode numeric value and returns it.\n",
    "    return ((multFactor+(Hcode//7 * int(inline[3])+(len(inline[2])*len(inline[1])))*mFactor)%HTcapacity) \n",
    "## prime num, H2: compresses the large numeric value into smaller number within the amount of hash table slots.\n"
   ]
  },
  {
   "cell_type": "code",
   "execution_count": null,
   "metadata": {},
   "outputs": [],
   "source": []
  },
  {
   "cell_type": "markdown",
   "metadata": {},
   "source": [
    "### Computing and printing the hash values for each input line. Ignoring short lines that are mostly '\\n' and nondata."
   ]
  },
  {
   "cell_type": "code",
   "execution_count": 6,
   "metadata": {},
   "outputs": [
    {
     "name": "stdout",
     "output_type": "stream",
     "text": [
      "Hash values for \"I\" input records:  Rizzo Mike  is  96\n",
      "Hash values for \"I\" input records:  Womack Mary  is  39\n",
      "Hash values for \"I\" input records:  Smith Marv  is  54\n",
      "Hash values for \"I\" input records:  Miller Samuel  is  44\n",
      "Hash values for \"I\" input records:  Kelvin Katrina  is  23\n",
      "Hash values for \"I\" input records:  Sherman Maria  is  60\n",
      "Hash values for \"I\" input records:  Ali Hassan  is  90\n",
      "Hash values for \"I\" input records:  Smith Mary  is  33\n",
      "Hash values for \"I\" input records:  Miller Smuel  is  66\n",
      "Hash values for \"I\" input records:  Adams Stuart  is  6\n",
      "Hash values for \"I\" input records:  Lomack Marv  is  74\n",
      "Hash values for \"I\" input records:  Strasburg Stephen  is  44\n",
      "Hash values for \"I\" input records:  Thompson Creek  is  58\n",
      "Hash values for \"I\" input records:  Bryson William  is  0\n",
      "Hash values for \"I\" input records:  Eaton Adam  is  96\n",
      "Hash values for \"I\" input records:  Jones Johann  is  16\n",
      "Hash values for \"I\" input records:  Kevin Katherine  is  19\n",
      "Hash values for \"I\" input records:  Rizzo Frank  is  35\n",
      "Hash values for \"I\" input records:  Doan Quang  is  53\n",
      "Hash values for \"I\" input records:  Ebert Linda  is  41\n",
      "Hash values for \"I\" input records:  Stanford  Lleland  is  67\n",
      "Hash values for \"I\" input records:  Ford Henry  is  45\n",
      "Hash values for \"I\" input records:  Bryson Wilson  is  17\n",
      "Hash values for \"I\" input records:  Smith Mary  is  33\n",
      "Hash values for \"I\" input records:  Garcia Manuel  is  17\n",
      "Hash values for \"I\" input records:  Vicente Alberto  is  90\n",
      "Hash values for \"I\" input records:  Principato Geraldo  is  28\n",
      "Hash values for \"I\" input records:  Principle Victoria  is  96\n",
      "Hash values for \"I\" input records:  Shurman Maria  is  84\n",
      "Hash values for \"I\" input records:  Kelvin Katrina  is  23\n",
      "Hash values for \"R\" input records:  Rizzo Frank  is  24\n",
      "Hash values for \"R\" input records:  Smith Marv  is  54\n",
      "Hash values for \"I\" input records:  Ford Edsel  is  14\n",
      "Hash values for \"F\" input records:  Bryson William  is  0\n",
      "Hash values for \"F\" input records:  Sherman Lawrence  is  71\n",
      "Hash values for \"I\" input records:  Korbut Olga  is  0\n",
      "Hash values for \"I\" input records:  Khorkina Svetlana  is  71\n",
      "Hash values for \"I\" input records:  Martinez David  is  40\n",
      "Hash values for \"I\" input records:  Snyder Daniel  is  2\n",
      "Hash values for \"I\" input records:  Angelos Peter  is  65\n",
      "Hash values for \"I\" input records:  Jones Johanna  is  31\n",
      "Hash values for \"I\" input records:  MacGillacudy Lucille  is  11\n",
      "Hash values for \"I\" input records:  Lockhorn Leonard  is  36\n",
      "Hash values for \"I\" input records:  Gomez Maria  is  82\n",
      "Hash values for \"I\" input records:  Rydell Robert  is  41\n",
      "Hash values for \"I\" input records:  Howard Irene  is  14\n",
      "Hash values for \"I\" input records:  Leiby Nancy  is  82\n",
      "Hash values for \"I\" input records:  Gauss Karl  is  32\n",
      "Hash values for \"I\" input records:  Ramanajan Sanji  is  84\n",
      "Hash values for \"I\" input records:  Disaeli Benjamin  is  17\n",
      "Hash values for \"R\" input records:  Ford Henry  is  45\n",
      "Hash values for \"I\" input records:  Lord Jonathon  is  3\n",
      "Hash values for \"F\" input records:  Gauss Karl  is  32\n",
      "Hash values for \"F\" input records:  Lockhorn Leonard  is  89\n",
      "Hash values for \"I\" input records:  Kaat James  is  93\n",
      "Hash values for \"I\" input records:  Desdion Gerard  is  56\n",
      "Hash values for \"I\" input records:  Warren Esmerelda  is  7\n",
      "Hash values for \"I\" input records:  Warden Jack  is  74\n",
      "Hash values for \"I\" input records:  SmithSmith Smithy  is  65\n",
      "Hash values for \"I\" input records:  Sagan Carl  is  72\n",
      "Hash values for \"I\" input records:  Druyan Ann  is  44\n",
      "Hash values for \"R\" input records:  Gauss Karl  is  32\n",
      "Hash values for \"I\" input records:  Zebub Be-el  is  62\n",
      "Hash values for \"I\" input records:  Jaegar Karina  is  61\n",
      "Hash values for \"F\" input records:  Gauss Karl  is  32\n",
      "Hash values for \"I\" input records:  Grant James  is  40\n",
      "Hash values for \"I\" input records:  Crabbe Henry  is  16\n",
      "Hash values for \"R\" input records:  Gladstone Jonathon  is  0\n",
      "Hash values for \"I\" input records:  Chamberlain Neville  is  39\n",
      "Hash values for \"I\" input records:  Hopkins Susan  is  86\n",
      "Hash values for \"I\" input records:  Smith Mary  is  33\n",
      "Hash values for \"I\" input records:  Vicente Alfredo  is  26\n",
      "Hash values for \"I\" input records:  Hardcastle Morvena  is  22\n",
      "Hash values for \"R\" input records:  Smith Mary  is  33\n",
      "Hash values for \"I\" input records:  Smits Jimmy  is  55\n",
      "Hash values for \"F\" input records:  Smith Mary  is  33\n",
      "Hash values for \"I\" input records:  Sox Bobby  is  59\n",
      "Hash values for \"I\" input records:  Ortiz David  is  19\n",
      "Hash values for \"F\" input records:  Jones Johanna  is  31\n",
      "Hash values for \"F\" input records:  Ford Henry  is  45\n",
      "Hash values for \"I\" input records:  Rodriguez Hector  is  66\n",
      "Hash values for \"I\" input records:  Li Stephanie  is  8\n",
      "Hash values for \"I\" input records:  Das Petra  is  22\n",
      "Hash values for \"R\" input records:  Druyan Ann  is  44\n",
      "Hash values for \"I\" input records:  Warden Jackie  is  17\n"
     ]
    }
   ],
   "source": [
    "for l in inlists:\n",
    "    if len(l) > 3: # if length of characters of a line is greater than 3. to make sure no 'junk' lines will be run.\n",
    "        if l[0] == \"I\":\n",
    "            print('Hash values for \"I\" input records: ', l[1], l[2], ' is ', Hash(l, mFactor = multFactor))\n",
    "        elif l[0] == \"F\":\n",
    "            print('Hash values for \"F\" input records: ', l[1], l[2], ' is ', Hash(l, mFactor = multFactor))\n",
    "        elif l[0] == \"R\":\n",
    "            print('Hash values for \"R\" input records: ', l[1], l[2], ' is ', Hash(l, mFactor = multFactor))\n",
    "        "
   ]
  },
  {
   "cell_type": "markdown",
   "metadata": {},
   "source": [
    "### Computing the hash values again and insert into the table. Handling collisions by chaining.\n",
    "### Note: The remove function works but  further operating down the line may break. The insert and find functions work perfectly regardless."
   ]
  },
  {
   "cell_type": "code",
   "execution_count": 7,
   "metadata": {},
   "outputs": [
    {
     "name": "stdout",
     "output_type": "stream",
     "text": [
      "INSERTING  [['Rizzo', 'Mike', '1962', 'M', 'PhEd\\n']]  in slot:  96\n",
      "INSERTING  [['Womack', 'Mary', '1972', 'F', 'Math\\n']]  in slot:  39\n",
      "INSERTING  [['Smith', 'Marv', '1978', 'M', 'CS\\n']]  in slot:  54\n",
      "INSERTING  [['Miller', 'Samuel', '1974', 'M', 'HIST\\n']]  in slot:  44\n",
      "INSERTING  [['Kelvin', 'Katrina', '1982', 'F', 'ARTH\\n']]  in slot:  23\n",
      "INSERTING  [['Sherman', 'Maria', '1992', 'F', 'IST\\n']]  in slot:  60\n",
      "INSERTING  [['Ali', 'Hassan', '1996', 'M', 'MUSC\\n']]  in slot:  90\n",
      "INSERTING  [['Smith', 'Mary', '1999', 'F', 'ENGR\\n']]  in slot:  33\n",
      "INSERTING  [['Miller', 'Smuel', '1976', 'M', 'HIST\\n']]  in slot:  66\n",
      "INSERTING  [['Adams', 'Stuart', '2000', 'M', 'Food\\n']]  in slot:  6\n",
      "INSERTING  [['Lomack', 'Marv', '1971', 'M', 'Mgt\\n']]  in slot:  74\n",
      "APPENDING  ['I', 'Strasburg', 'Stephen', '1988', 'M', 'PhEd\\n']  WITH:  [['Miller', 'Samuel', '1974', 'M', 'HIST\\n']]  in slot:  44\n",
      "INSERTING  [['Thompson', 'Creek', '2000', 'F', 'ACCT\\n']]  in slot:  58\n",
      "INSERTING  [['Bryson', 'William', '1997', 'M', 'ENGL\\n']]  in slot:  0\n",
      "APPENDING  ['I', 'Eaton', 'Adam', '1989', 'M', 'Math\\n']  WITH:  [['Rizzo', 'Mike', '1962', 'M', 'PhEd\\n']]  in slot:  96\n",
      "INSERTING  [['Jones', 'Johann', '1996', 'M', 'ENGR\\n']]  in slot:  16\n",
      "INSERTING  [['Kevin', 'Katherine', '1997', 'F', 'HIST\\n']]  in slot:  19\n",
      "INSERTING  [['Rizzo', 'Frank', '1961', 'M', 'PSci\\n']]  in slot:  35\n",
      "INSERTING  [['Doan', 'Quang', '1969', 'M', 'Math\\n']]  in slot:  53\n",
      "INSERTING  [['Ebert', 'Linda', '1991', 'F', 'CHHS\\n']]  in slot:  41\n",
      "INSERTING  [['Stanford', ' Lleland', '1965', 'M', 'BUS\\n']]  in slot:  67\n",
      "INSERTING  [['Ford', 'Henry', '1972', 'M', 'MGT\\n']]  in slot:  45\n",
      "INSERTING  [['Bryson', 'Wilson', '1998', 'M', 'ENGR\\n']]  in slot:  17\n",
      "APPENDING  ['I', 'Smith', 'Mary', '1999', 'F', 'ENGR\\n']  WITH:  [['Smith', 'Mary', '1999', 'F', 'ENGR\\n']]  in slot:  33\n",
      "APPENDING  ['I', 'Garcia', 'Manuel', '1998', 'M', 'CS\\n']  WITH:  [['Bryson', 'Wilson', '1998', 'M', 'ENGR\\n']]  in slot:  17\n",
      "APPENDING  ['I', 'Vicente', 'Alberto', '1979', 'M', 'Ling\\n']  WITH:  [['Ali', 'Hassan', '1996', 'M', 'MUSC\\n']]  in slot:  90\n",
      "INSERTING  [['Principato', 'Geraldo', '1994', 'M', 'ENGL\\n']]  in slot:  28\n",
      "APPENDING  ['I', 'Principle', 'Victoria', '1982', 'F', 'THEA\\n']  WITH:  [['Rizzo', 'Mike', '1962', 'M', 'PhEd\\n'], ['Eaton', 'Adam', '1989', 'M', 'Math\\n']]  in slot:  96\n",
      "INSERTING  [['Shurman', 'Maria', '1992', 'F', 'HUM\\n']]  in slot:  84\n",
      "APPENDING  ['I', 'Kelvin', 'Katrina', '1982', 'F', 'ARTH\\n']  WITH:  [['Kelvin', 'Katrina', '1982', 'F', 'ARTH\\n']]  in slot:  23\n",
      "*** Value to be removed in slot:  23  ***\n",
      "REMOVING:  [['Kelvin', 'Katrina', '1982', 'F', 'ARTH\\n'], ['Kelvin', 'Katrina', '1982', 'F', 'ARTH\\n']] in slot:  23\n",
      "REMOVING:  None in slot:  23\n",
      "REMOVING:  None in slot:  23\n",
      "REMOVING:  None in slot:  23\n",
      "REMOVING:  None in slot:  23\n",
      "*** Value to be removed in slot:  23  ***\n",
      "REMOVING:  [['Principato', 'Geraldo', '1994', 'M', 'ENGL\\n']] in slot:  23\n",
      "REMOVING:  None in slot:  23\n",
      "REMOVING:  None in slot:  23\n",
      "REMOVING:  None in slot:  23\n",
      "REMOVING:  None in slot:  23\n",
      "INSERTING  [['Ford', 'Edsel', '1940', 'M', 'MGT\\n']]  in slot:  14\n",
      "*** Looking for  [['Ford', 'Edsel', '1940', 'M', 'MGT\\n']]  in slot:  14  ***\n",
      "FOUND:  [['Ford', 'Edsel', '1940', 'M', 'MGT\\n']]  in  14\n",
      "*** Looking for  [['Ford', 'Edsel', '1940', 'M', 'MGT\\n']]  in slot:  14  ***\n",
      "FOUND:  [['Ford', 'Edsel', '1940', 'M', 'MGT\\n']]  in  14\n",
      "APPENDING  ['I', 'Korbut', 'Olga', '1960', 'F', 'DANC\\n']  WITH:  [['Bryson', 'William', '1997', 'M', 'ENGL\\n']]  in slot:  0\n",
      "INSERTING  [['Khorkina', 'Svetlana', '1978', 'F', 'ENGR\\n']]  in slot:  71\n",
      "INSERTING  [['Martinez', 'David', '1971', 'M', 'PhEd\\n']]  in slot:  40\n",
      "INSERTING  [['Snyder', 'Daniel', '1974', 'M', 'BUS\\n']]  in slot:  2\n",
      "INSERTING  [['Angelos', 'Peter', '1940', 'M', 'MGT\\n']]  in slot:  65\n",
      "APPENDING  ['I', 'Jones', 'Johanna', '1997', 'F', 'ENGL\\n']  WITH:  [['Ebert', 'Linda', '1991', 'F', 'CHHS\\n']]  in slot:  31\n",
      "INSERTING  [['MacGillacudy', 'Lucille', '1954', 'F', 'THEA\\n']]  in slot:  11\n",
      "INSERTING  [['Lockhorn', 'Leonard', '1992', 'M', 'CHEM\\n']]  in slot:  36\n",
      "INSERTING  [['Gomez', 'Maria', '1998', 'F', 'Phil\\n']]  in slot:  82\n",
      "INSERTING  [['Rydell', 'Robert', '1969', 'M', 'MUSC\\n']]  in slot:  41\n",
      "APPENDING  ['I', 'Howard', 'Irene', '1989', 'F', 'ENGR\\n']  WITH:  [['Ford', 'Edsel', '1940', 'M', 'MGT\\n']]  in slot:  14\n",
      "APPENDING  ['I', 'Leiby', 'Nancy', '1998', 'F', 'Math\\n']  WITH:  [['Gomez', 'Maria', '1998', 'F', 'Phil\\n']]  in slot:  82\n",
      "INSERTING  [['Gauss', 'Karl', '1940', 'M', 'Phil\\n']]  in slot:  32\n",
      "INSERTING  [['Ramanajan', 'Sanji', '1976', 'M', 'Math\\n']]  in slot:  84\n",
      "APPENDING  ['I', 'Disaeli', 'Benjamin', '1825', 'M', 'PSci\\n']  WITH:  [['Bryson', 'Wilson', '1998', 'M', 'ENGR\\n'], ['Garcia', 'Manuel', '1998', 'M', 'CS\\n']]  in slot:  17\n",
      "*** Value to be removed in slot:  17  ***\n",
      "REMOVING:  [['Bryson', 'Wilson', '1998', 'M', 'ENGR\\n'], ['Garcia', 'Manuel', '1998', 'M', 'CS\\n'], ['Disaeli', 'Benjamin', '1825', 'M', 'PSci\\n']] in slot:  17\n",
      "INSERTING  [['Lord', 'Jonathon', '1941', 'M', 'MUSC\\n']]  in slot:  3\n",
      "*** Looking for  [['Lord', 'Jonathon', '1941', 'M', 'MUSC\\n']]  in slot:  3  ***\n",
      "FOUND:  [['Lord', 'Jonathon', '1941', 'M', 'MUSC\\n']]  in  3\n",
      "*** Looking for  [['Lord', 'Jonathon', '1941', 'M', 'MUSC\\n']]  in slot:  3  ***\n",
      "FOUND:  [['Lord', 'Jonathon', '1941', 'M', 'MUSC\\n']]  in  3\n"
     ]
    },
    {
     "ename": "IndexError",
     "evalue": "list index out of range",
     "output_type": "error",
     "traceback": [
      "\u001b[0;31m---------------------------------------------------------------------------\u001b[0m",
      "\u001b[0;31mIndexError\u001b[0m                                Traceback (most recent call last)",
      "\u001b[0;32m<ipython-input-7-a7978eea9a40>\u001b[0m in \u001b[0;36m<module>\u001b[0;34m\u001b[0m\n\u001b[1;32m      5\u001b[0m     \u001b[0;32mif\u001b[0m \u001b[0mi\u001b[0m\u001b[0;34m[\u001b[0m\u001b[0;36m0\u001b[0m\u001b[0;34m]\u001b[0m \u001b[0;34m==\u001b[0m \u001b[0;34m\"I\"\u001b[0m\u001b[0;34m:\u001b[0m \u001b[0;31m# insert line in table\u001b[0m\u001b[0;34m\u001b[0m\u001b[0;34m\u001b[0m\u001b[0m\n\u001b[1;32m      6\u001b[0m         \u001b[0mHC\u001b[0m \u001b[0;34m=\u001b[0m \u001b[0mHash\u001b[0m\u001b[0;34m(\u001b[0m\u001b[0mi\u001b[0m\u001b[0;34m,\u001b[0m \u001b[0mmFactor\u001b[0m \u001b[0;34m=\u001b[0m \u001b[0mmultFactor\u001b[0m\u001b[0;34m)\u001b[0m\u001b[0;34m\u001b[0m\u001b[0;34m\u001b[0m\u001b[0m\n\u001b[0;32m----> 7\u001b[0;31m         \u001b[0;32mif\u001b[0m \u001b[0mHT\u001b[0m\u001b[0;34m[\u001b[0m\u001b[0mHC\u001b[0m\u001b[0;34m]\u001b[0m \u001b[0;32mis\u001b[0m \u001b[0;32mNone\u001b[0m\u001b[0;34m:\u001b[0m \u001b[0;31m# if slot is None\u001b[0m\u001b[0;34m\u001b[0m\u001b[0;34m\u001b[0m\u001b[0m\n\u001b[0m\u001b[1;32m      8\u001b[0m             \u001b[0mHT\u001b[0m\u001b[0;34m[\u001b[0m\u001b[0mHC\u001b[0m\u001b[0;34m]\u001b[0m \u001b[0;34m=\u001b[0m \u001b[0;34m[\u001b[0m\u001b[0mi\u001b[0m\u001b[0;34m[\u001b[0m\u001b[0;36m1\u001b[0m\u001b[0;34m:\u001b[0m\u001b[0;34m]\u001b[0m\u001b[0;34m]\u001b[0m\u001b[0;34m\u001b[0m\u001b[0;34m\u001b[0m\u001b[0m\n\u001b[1;32m      9\u001b[0m             \u001b[0mprint\u001b[0m\u001b[0;34m(\u001b[0m\u001b[0;34m\"INSERTING \"\u001b[0m\u001b[0;34m,\u001b[0m \u001b[0mHT\u001b[0m\u001b[0;34m[\u001b[0m\u001b[0mHC\u001b[0m\u001b[0;34m]\u001b[0m\u001b[0;34m,\u001b[0m\u001b[0;34m\" in slot: \"\u001b[0m\u001b[0;34m,\u001b[0m \u001b[0mHC\u001b[0m\u001b[0;34m)\u001b[0m\u001b[0;34m\u001b[0m\u001b[0;34m\u001b[0m\u001b[0m\n",
      "\u001b[0;31mIndexError\u001b[0m: list index out of range"
     ]
    }
   ],
   "source": [
    "# Recompute the hash value of each line. Store the entire input record in the HT 'list' slot.\n",
    "# Chain collisions by making the chain a 'list of list'.\n",
    "HT = [None] * HTcapacity\n",
    "for i in inlists: # goes line by line if txt file\n",
    "    if i[0] == \"I\": # insert line in table\n",
    "        HC = Hash(i, mFactor = multFactor)\n",
    "        if HT[HC] is None: # if slot is None\n",
    "            HT[HC] = [i[1:]]\n",
    "            print(\"INSERTING \", HT[HC],\" in slot: \", HC)\n",
    "        else: # if there is a value in the slot (***COLLISION***); append to make list of list\n",
    "            print(\"APPENDING \", i, \" WITH: \", HT[HC],\" in slot: \", HC)\n",
    "            HT[HC].append(i[1:]) # :-1\n",
    "            \n",
    "    elif i[0] == \"F\": # find in table\n",
    "        print(\"*** Looking for \", HT[HC],\" in slot: \", HC, \" ***\")\n",
    "        for elt in HT:\n",
    "            if elt == HT[HC]:\n",
    "                print(\"FOUND: \", HT[HC],\" in \", HC)\n",
    "                break\n",
    "            elif HT[HC] == None:\n",
    "                print(\"NOT FOUND\")\n",
    "                break\n",
    "                \n",
    "    elif i[0] == \"R\": # remove\n",
    "        print(\"*** Value to be removed in slot: \", HC, \" ***\")\n",
    "        for elt in HT:\n",
    "            if elt == HT[HC]:\n",
    "                print(\"REMOVING: \", HT[HC], \"in slot: \", HC)\n",
    "                del HT[HC]\n",
    "            elif HT[HC] == None:\n",
    "                break\n",
    "            #elif HT[HC] == None:\n",
    "            #    print(\"CANNOT DELETE. NOT FOUND.\")\n",
    "        "
   ]
  },
  {
   "cell_type": "markdown",
   "metadata": {},
   "source": [
    "### Printing the Hash Table (HT) contents"
   ]
  },
  {
   "cell_type": "code",
   "execution_count": 8,
   "metadata": {},
   "outputs": [
    {
     "name": "stdout",
     "output_type": "stream",
     "text": [
      "index # 0  =  [['Bryson', 'William', '1997', 'M', 'ENGL\\n'], ['Korbut', 'Olga', '1960', 'F', 'DANC\\n']]\n",
      "index # 1  =  None\n",
      "index # 2  =  [['Snyder', 'Daniel', '1974', 'M', 'BUS\\n']]\n",
      "index # 3  =  [['Lord', 'Jonathon', '1941', 'M', 'MUSC\\n']]\n",
      "index # 4  =  None\n",
      "index # 5  =  None\n",
      "index # 6  =  [['Adams', 'Stuart', '2000', 'M', 'Food\\n']]\n",
      "index # 7  =  None\n",
      "index # 8  =  None\n",
      "index # 9  =  None\n",
      "index # 10  =  None\n",
      "index # 11  =  [['MacGillacudy', 'Lucille', '1954', 'F', 'THEA\\n']]\n",
      "index # 12  =  None\n",
      "index # 13  =  None\n",
      "index # 14  =  [['Ford', 'Edsel', '1940', 'M', 'MGT\\n'], ['Howard', 'Irene', '1989', 'F', 'ENGR\\n']]\n",
      "index # 15  =  None\n",
      "index # 16  =  [['Jones', 'Johann', '1996', 'M', 'ENGR\\n']]\n",
      "index # 17  =  None\n",
      "index # 18  =  [['Kevin', 'Katherine', '1997', 'F', 'HIST\\n']]\n",
      "index # 19  =  None\n",
      "index # 20  =  None\n",
      "index # 21  =  None\n",
      "index # 22  =  [['Smith', 'Mary', '1999', 'F', 'ENGR\\n'], ['Smith', 'Mary', '1999', 'F', 'ENGR\\n']]\n",
      "index # 23  =  None\n",
      "index # 24  =  [['Rizzo', 'Frank', '1961', 'M', 'PSci\\n']]\n",
      "index # 25  =  None\n",
      "index # 26  =  None\n",
      "index # 27  =  None\n",
      "index # 28  =  [['Womack', 'Mary', '1972', 'F', 'Math\\n']]\n",
      "index # 29  =  None\n",
      "index # 30  =  [['Ebert', 'Linda', '1991', 'F', 'CHHS\\n'], ['Jones', 'Johanna', '1997', 'F', 'ENGL\\n']]\n",
      "index # 31  =  [['Gauss', 'Karl', '1940', 'M', 'Phil\\n']]\n",
      "index # 32  =  None\n",
      "index # 33  =  [['Miller', 'Samuel', '1974', 'M', 'HIST\\n'], ['Strasburg', 'Stephen', '1988', 'M', 'PhEd\\n']]\n",
      "index # 34  =  [['Ford', 'Henry', '1972', 'M', 'MGT\\n']]\n",
      "index # 35  =  [['Lockhorn', 'Leonard', '1992', 'M', 'CHEM\\n']]\n",
      "index # 36  =  None\n",
      "index # 37  =  None\n",
      "index # 38  =  None\n",
      "index # 39  =  [['Martinez', 'David', '1971', 'M', 'PhEd\\n']]\n",
      "index # 40  =  [['Rydell', 'Robert', '1969', 'M', 'MUSC\\n']]\n",
      "index # 41  =  None\n",
      "index # 42  =  [['Doan', 'Quang', '1969', 'M', 'Math\\n']]\n",
      "index # 43  =  [['Smith', 'Marv', '1978', 'M', 'CS\\n']]\n",
      "index # 44  =  None\n",
      "index # 45  =  None\n",
      "index # 46  =  None\n",
      "index # 47  =  [['Thompson', 'Creek', '2000', 'F', 'ACCT\\n']]\n",
      "index # 48  =  None\n",
      "index # 49  =  [['Sherman', 'Maria', '1992', 'F', 'IST\\n']]\n",
      "index # 50  =  None\n",
      "index # 51  =  None\n",
      "index # 52  =  None\n",
      "index # 53  =  None\n",
      "index # 54  =  None\n",
      "index # 55  =  [['Miller', 'Smuel', '1976', 'M', 'HIST\\n']]\n",
      "index # 56  =  [['Stanford', ' Lleland', '1965', 'M', 'BUS\\n']]\n",
      "index # 57  =  None\n",
      "index # 58  =  None\n",
      "index # 59  =  None\n",
      "index # 60  =  None\n",
      "index # 61  =  None\n",
      "index # 62  =  None\n",
      "index # 63  =  [['Lomack', 'Marv', '1971', 'M', 'Mgt\\n']]\n",
      "index # 64  =  [['Angelos', 'Peter', '1940', 'M', 'MGT\\n']]\n",
      "index # 65  =  None\n",
      "index # 66  =  None\n",
      "index # 67  =  None\n",
      "index # 68  =  None\n",
      "index # 69  =  None\n",
      "index # 70  =  [['Khorkina', 'Svetlana', '1978', 'F', 'ENGR\\n']]\n",
      "index # 71  =  None\n",
      "index # 72  =  None\n",
      "index # 73  =  [['Shurman', 'Maria', '1992', 'F', 'HUM\\n']]\n",
      "index # 74  =  None\n",
      "index # 75  =  None\n",
      "index # 76  =  None\n",
      "index # 77  =  None\n",
      "index # 78  =  None\n",
      "index # 79  =  [['Ali', 'Hassan', '1996', 'M', 'MUSC\\n'], ['Vicente', 'Alberto', '1979', 'M', 'Ling\\n']]\n",
      "index # 80  =  None\n",
      "index # 81  =  [['Gomez', 'Maria', '1998', 'F', 'Phil\\n'], ['Leiby', 'Nancy', '1998', 'F', 'Math\\n']]\n",
      "index # 82  =  None\n",
      "index # 83  =  [['Ramanajan', 'Sanji', '1976', 'M', 'Math\\n']]\n",
      "index # 84  =  None\n",
      "index # 85  =  [['Rizzo', 'Mike', '1962', 'M', 'PhEd\\n'], ['Eaton', 'Adam', '1989', 'M', 'Math\\n'], ['Principle', 'Victoria', '1982', 'F', 'THEA\\n']]\n",
      "index # 86  =  None\n",
      "index # 87  =  None\n"
     ]
    }
   ],
   "source": [
    "# Print the hash table contents\n",
    "for n in range(0, len(HT)):\n",
    "    print('index #', n, ' = ', HT[n])"
   ]
  },
  {
   "cell_type": "markdown",
   "metadata": {},
   "source": [
    "### Statistics for the program."
   ]
  },
  {
   "cell_type": "code",
   "execution_count": 9,
   "metadata": {},
   "outputs": [
    {
     "name": "stdout",
     "output_type": "stream",
     "text": [
      "Hash Table size (capacity):                      99\n",
      "# empty HT slots:                                56\n",
      "# occupied HT slots:                             32\n",
      "# items in table (incl. collisions):             41\n",
      "HT load factor:                                0.47\n",
      "# HT collisions:                                  8\n",
      "Average # entries in collision slots:          2.12\n"
     ]
    }
   ],
   "source": [
    "empty = 0            # empty HT slots\n",
    "occupied = 0         # # HT slots occupied (not = None)\n",
    "collisions = 0       # # HT slots with collisions - more than 1 entry at the same place\n",
    "items = 0            # # entries in the table and collision chains\n",
    "chains = 0           # # entries in HT table slots with > 1 entry (i.e. entry is a collision slot)\n",
    "for h in HT:\n",
    "    if h is None:\n",
    "        empty += 1\n",
    "    else:\n",
    "        occupied += 1\n",
    "        items += len(h)\n",
    "        if len(h) > 1:\n",
    "            collisions += 1\n",
    "            chains += len(h)\n",
    "\n",
    "print('Hash Table size (capacity):                {0:8}'.format(HTcapacity))\n",
    "print('# empty HT slots:                          {0:8}'.format(empty))\n",
    "print('# occupied HT slots:                       {0:8}'.format(occupied))\n",
    "print('# items in table (incl. collisions):       {0:8}'.format(items))\n",
    "print('HT load factor:                            {0:8.2f}'.format(items/len(HT)))\n",
    "print('# HT collisions:                           {0:8d}'.format(collisions))\n",
    "print('Average # entries in collision slots:      {0:8.2f}'.format(chains/collisions))"
   ]
  },
  {
   "cell_type": "markdown",
   "metadata": {},
   "source": [
    "# Experimentation and Analysis Report"
   ]
  },
  {
   "cell_type": "markdown",
   "metadata": {},
   "source": [
    "### My hash function is a modified version of the hash function shown in class. I first altered the multFactor to a larger prime number '431' and the same goes for the mFactor '7371'. I then altered the hash formula with more variety of variables: def Hash (inline, mFactor = 7371): #1123\n",
    "    \"\"\"Hash function - takes and input line and returns the HT code.\"\"\"\n",
    "    instring = ''\n",
    "    for n in range(1, len(inline)):\n",
    "        instring = instring + str(inline[n])\n",
    "    Hcode = 0\n",
    "    for c in instring[:-1]: # H1: converting characters from all characters into a number\n",
    "        Hcode += ord(c) # adds unicode numeric value and returns it.\n",
    "    return ((multFactor+(Hcode//7 * int(inline[3])+(len(inline[2])*len(inline[1])))*mFactor)%HTcapacity) \n",
    "\n",
    "### I used floor division on the unicode calculate Hcode variable with the prime number 7, which is followed by the multiplication by it by the year element. This is then added by the multFactor value and added again by the following equation: the length of the surname that is multiplied by the length of the given name.\n",
    "\n",
    "### The result of that equation is then further multiplied by the mFactor variable. And finally all of which is compressed by the modulo of the hash table capacity. The result of this equation has decreased the average # of entries in the collision slots, however it has decreased the number of occupied slots. \n",
    "\n",
    "### For example: [I,Rizzo,Mike,1962,M,PhEd] -> hash formula -> 96\n",
    "\n",
    "### Here are the results:\n",
    "\n",
    "Hash Table size (capacity):                     200\n",
    "empty HT slots:                               174\n",
    "occupied HT slots:                             25\n",
    "items in table (incl. collisions):             28\n",
    "HT load factor:                                0.14\n",
    "HT collisions:                                  3\n",
    "Average # entries in collision slots:          2.00\n",
    "\n",
    "\n",
    "### All calculated elements that have gone through the hash formula has a hash that is within boundaries of the table capacity thanks to the modulo of the capacity.\n",
    "\n",
    "### The overall function of this notebook's hashing works with all inserted values. However, the \"REMOVE\" function may have hindered ideal results.\n",
    "\n",
    "### These collisions have been remedied by the chaining strategy, appending next element with the same hash into a linked list.\n",
    "\n",
    "### Selecting only a subset of input characters does change the number of collisions and number of open table slots usually slightly but sometimes drastically depending on certain variables changing such as capacity size.\n",
    "\n",
    "### Calculating the H1 hash formula does indeed change the above, slightly or drastically, depending on what values and factors being altered and the scale of them.\n",
    "\n",
    "### Reducing the table capacity to 50 shake the outcome of the amount of occupied slots being increased (with the subset input character alternation):\n",
    "Hash Table size (capacity):                    50\n",
    "empty HT slots:                                13\n",
    "occupied HT slots:                             29\n",
    "items in table (incl. collisions):             49\n",
    "HT load factor:                                1.17\n",
    "HT collisions:                                 15\n",
    "Average # entries in collision slots:          2.33\n",
    "\n",
    "### Expanding the table capacity to 200 has greatly decreased the number of collisions (to 3) :\n",
    "Hash Table size (capacity):                    200\n",
    "empty HT slots:                                174\n",
    "occupied HT slots:                             25\n",
    "items in table (incl. collisions):             28\n",
    "HT load factor:                                0.14\n",
    "HT collisions:                                  3\n",
    "Average # entries in collision slots:          2.00\n",
    "\n"
   ]
  },
  {
   "cell_type": "code",
   "execution_count": null,
   "metadata": {},
   "outputs": [],
   "source": []
  }
 ],
 "metadata": {
  "kernelspec": {
   "display_name": "Python 3",
   "language": "python",
   "name": "python3"
  },
  "language_info": {
   "codemirror_mode": {
    "name": "ipython",
    "version": 3
   },
   "file_extension": ".py",
   "mimetype": "text/x-python",
   "name": "python",
   "nbconvert_exporter": "python",
   "pygments_lexer": "ipython3",
   "version": "3.8.5"
  }
 },
 "nbformat": 4,
 "nbformat_minor": 4
}
