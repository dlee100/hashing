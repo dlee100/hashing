{
 "cells": [
  {
   "cell_type": "markdown",
   "metadata": {},
   "source": [
    "# IT309 - Assignment 6: Hashing\n",
    "## Daniel Lee"
   ]
  },
  {
   "cell_type": "code",
   "execution_count": 1,
   "metadata": {},
   "outputs": [],
   "source": [
    "HTcapacity = 101\n",
    "HT = [None]*HTcapacity\n",
    "multFactor = 137"
   ]
  },
  {
   "cell_type": "code",
   "execution_count": 2,
   "metadata": {},
   "outputs": [
    {
     "data": {
      "text/plain": [
       "101"
      ]
     },
     "execution_count": 2,
     "metadata": {},
     "output_type": "execute_result"
    }
   ],
   "source": [
    "len(HT)"
   ]
  },
  {
   "cell_type": "markdown",
   "metadata": {},
   "source": [
    "### Read the input file and convert the 'I' records to a list"
   ]
  },
  {
   "cell_type": "code",
   "execution_count": 3,
   "metadata": {},
   "outputs": [
    {
     "name": "stdout",
     "output_type": "stream",
     "text": [
      "90\n",
      "I,Rizzo,Mike,1962,M,PhEd\n",
      "      \n",
      "\n",
      "I,Rodriguez,Hector,1987,M,ENGR\n",
      "\n"
     ]
    }
   ],
   "source": [
    "# paste txt file here later instead?\n",
    "fname = '2020-10-27-A6-Hash-Input.txt'\n",
    "f = open(fname, 'r')\n",
    "a6input = f.readlines()\n",
    "f.close()\n",
    "print(len(a6input))\n",
    "print(a6input[0], '    ', a6input[-1])\n",
    "print(a6input[80])\n"
   ]
  },
  {
   "cell_type": "code",
   "execution_count": 4,
   "metadata": {},
   "outputs": [
    {
     "name": "stdout",
     "output_type": "stream",
     "text": [
      "90\n",
      "['I', 'Rizzo', 'Mike', '1962', 'M', 'PhEd\\n'] ['\\n']\n"
     ]
    }
   ],
   "source": [
    "inlists = []\n",
    "for n in a6input:\n",
    "    inlists.append(n.split(','))\n",
    "print(len(inlists))\n",
    "print(inlists[0], inlists[-1])\n"
   ]
  },
  {
   "cell_type": "markdown",
   "metadata": {},
   "source": [
    "### 'Hash' function performs the computation of the hash code and compression to the table size"
   ]
  },
  {
   "cell_type": "code",
   "execution_count": 5,
   "metadata": {},
   "outputs": [],
   "source": [
    "def Hash (inline, mFactor = 1123):\n",
    "    \"\"\"Hash function - takes and input line and returns the HT code.\"\"\"\n",
    "    instring = ''\n",
    "    for n in range(1, len(inline)):\n",
    "        instring = instring + str(inline[n])\n",
    "    Hcode = 0\n",
    "    for c in instring[:-1]:\n",
    "        Hcode += ord(c)\n",
    "    return ((Hcode//3 * int(inline[3])*mFactor)%HTcapacity)"
   ]
  },
  {
   "cell_type": "markdown",
   "metadata": {},
   "source": [
    "### Compute and print the hash values for each input line. Ignore short lines that are mostly '\\n' and nondata."
   ]
  },
  {
   "cell_type": "code",
   "execution_count": 7,
   "metadata": {},
   "outputs": [
    {
     "name": "stdout",
     "output_type": "stream",
     "text": [
      "Hash values for \"I\" input records:  Rizzo Mike  is  21\n",
      "Hash values for \"I\" input records:  Womack Mary  is  58\n",
      "Hash values for \"I\" input records:  Smith Marv  is  52\n",
      "Hash values for \"I\" input records:  Miller Samuel  is  42\n",
      "Hash values for \"I\" input records:  Kelvin Katrina  is  58\n",
      "Hash values for \"I\" input records:  Sherman Maria  is  43\n",
      "Hash values for \"I\" input records:  Ali Hassan  is  100\n",
      "Hash values for \"I\" input records:  Smith Mary  is  0\n",
      "Hash values for \"I\" input records:  Miller Smuel  is  13\n",
      "Hash values for \"I\" input records:  Adams Stuart  is  16\n",
      "Hash values for \"I\" input records:  Lomack Marv  is  84\n",
      "Hash values for \"I\" input records:  Strasburg Stephen  is  59\n",
      "Hash values for \"I\" input records:  Thompson Creek  is  79\n",
      "Hash values for \"I\" input records:  Bryson William  is  69\n",
      "Hash values for \"I\" input records:  Eaton Adam  is  21\n",
      "Hash values for \"I\" input records:  Jones Johann  is  97\n",
      "Hash values for \"I\" input records:  Kevin Katherine  is  95\n",
      "Hash values for \"I\" input records:  Rizzo Frank  is  25\n",
      "Hash values for \"I\" input records:  Doan Quang  is  8\n",
      "Hash values for \"I\" input records:  Ebert Linda  is  96\n",
      "Hash values for \"I\" input records:  Stanford  Lleland  is  65\n",
      "Hash values for \"I\" input records:  Ford Henry  is  5\n",
      "Hash values for \"I\" input records:  Bryson Wilson  is  70\n",
      "Hash values for \"I\" input records:  Smith Mary  is  0\n",
      "Hash values for \"I\" input records:  Garcia Manuel  is  50\n",
      "Hash values for \"I\" input records:  Vicente Alberto  is  62\n",
      "Hash values for \"I\" input records:  Principato Geraldo  is  76\n",
      "Hash values for \"I\" input records:  Principle Victoria  is  80\n",
      "Hash values for \"I\" input records:  Shurman Maria  is  49\n",
      "Hash values for \"I\" input records:  Kelvin Katrina  is  58\n",
      "Hash values for \"I\" input records:  Rizzo Frank  is  2\n",
      "Hash values for \"I\" input records:  Smith Marv  is  52\n",
      "Hash values for \"I\" input records:  Ford Edsel  is  57\n",
      "Hash values for \"I\" input records:  Bryson William  is  69\n",
      "Hash values for \"I\" input records:  Sherman Lawrence  is  17\n",
      "Hash values for \"I\" input records:  Korbut Olga  is  67\n",
      "Hash values for \"I\" input records:  Khorkina Svetlana  is  16\n",
      "Hash values for \"I\" input records:  Martinez David  is  74\n",
      "Hash values for \"I\" input records:  Snyder Daniel  is  30\n",
      "Hash values for \"I\" input records:  Angelos Peter  is  39\n",
      "Hash values for \"I\" input records:  Jones Johanna  is  59\n",
      "Hash values for \"I\" input records:  MacGillacudy Lucille  is  51\n",
      "Hash values for \"I\" input records:  Lockhorn Leonard  is  97\n",
      "Hash values for \"I\" input records:  Gomez Maria  is  19\n",
      "Hash values for \"I\" input records:  Rydell Robert  is  22\n",
      "Hash values for \"I\" input records:  Howard Irene  is  94\n",
      "Hash values for \"I\" input records:  Leiby Nancy  is  19\n",
      "Hash values for \"I\" input records:  Gauss Karl  is  65\n",
      "Hash values for \"I\" input records:  Ramanajan Sanji  is  84\n",
      "Hash values for \"I\" input records:  Disaeli Benjamin  is  45\n",
      "Hash values for \"I\" input records:  Ford Henry  is  5\n",
      "Hash values for \"I\" input records:  Lord Jonathon  is  37\n",
      "Hash values for \"I\" input records:  Gauss Karl  is  65\n",
      "Hash values for \"I\" input records:  Lockhorn Leonard  is  62\n",
      "Hash values for \"I\" input records:  Kaat James  is  3\n",
      "Hash values for \"I\" input records:  Desdion Gerard  is  28\n",
      "Hash values for \"I\" input records:  Warren Esmerelda  is  16\n",
      "Hash values for \"I\" input records:  Warden Jack  is  40\n",
      "Hash values for \"I\" input records:  SmithSmith Smithy  is  78\n",
      "Hash values for \"I\" input records:  Sagan Carl  is  21\n",
      "Hash values for \"I\" input records:  Druyan Ann  is  25\n",
      "Hash values for \"I\" input records:  Gauss Karl  is  65\n",
      "Hash values for \"I\" input records:  Zebub Be-el  is  11\n",
      "Hash values for \"I\" input records:  Jaegar Karina  is  16\n",
      "Hash values for \"I\" input records:  Gauss Karl  is  65\n",
      "Hash values for \"I\" input records:  Grant James  is  30\n",
      "Hash values for \"I\" input records:  Crabbe Henry  is  99\n",
      "Hash values for \"I\" input records:  Gladstone Jonathon  is  40\n",
      "Hash values for \"I\" input records:  Chamberlain Neville  is  55\n",
      "Hash values for \"I\" input records:  Hopkins Susan  is  71\n",
      "Hash values for \"I\" input records:  Smith Mary  is  0\n",
      "Hash values for \"I\" input records:  Vicente Alfredo  is  7\n",
      "Hash values for \"I\" input records:  Hardcastle Morvena  is  100\n",
      "Hash values for \"I\" input records:  Smith Mary  is  0\n",
      "Hash values for \"I\" input records:  Smits Jimmy  is  99\n",
      "Hash values for \"I\" input records:  Smith Mary  is  0\n",
      "Hash values for \"I\" input records:  Sox Bobby  is  53\n",
      "Hash values for \"I\" input records:  Ortiz David  is  47\n",
      "Hash values for \"I\" input records:  Jones Johanna  is  59\n",
      "Hash values for \"I\" input records:  Ford Henry  is  5\n",
      "Hash values for \"I\" input records:  Rodriguez Hector  is  9\n",
      "Hash values for \"I\" input records:  Li Stephanie  is  83\n",
      "Hash values for \"I\" input records:  Das Petra  is  32\n",
      "Hash values for \"I\" input records:  Druyan Ann  is  25\n",
      "Hash values for \"I\" input records:  Warden Jackie  is  1\n"
     ]
    }
   ],
   "source": [
    "for l in inlists:\n",
    "    if len(l) > 3:\n",
    "        print('Hash values for \"I\" input records: ', l[1], l[2], ' is ', Hash(l, mFactor = multFactor))"
   ]
  },
  {
   "cell_type": "markdown",
   "metadata": {},
   "source": [
    "### Compute the hash values (again) and insert into the table. Handle collisions by chaining."
   ]
  },
  {
   "cell_type": "code",
   "execution_count": 9,
   "metadata": {},
   "outputs": [
    {
     "name": "stdout",
     "output_type": "stream",
     "text": [
      "[['Womack', 'Mary', '1972', 'F']]      ['I', 'Kelvin', 'Katrina', '1982', 'F', 'ARTH\\n']\n",
      "[['Rizzo', 'Mike', '1962', 'M']]      ['I', 'Eaton', 'Adam', '1989', 'M', 'Math\\n']\n",
      "[['Smith', 'Mary', '1999', 'F']]      ['I', 'Smith', 'Mary', '1999', 'F', 'ENGR\\n']\n",
      "[['Womack', 'Mary', '1972', 'F'], ['I', 'Kelvin', 'Katrina', '1982', 'F']]      ['I', 'Kelvin', 'Katrina', '1982', 'F', 'ARTH\\n']\n",
      "[['Adams', 'Stuart', '2000', 'M']]      ['I', 'Khorkina', 'Svetlana', '1978', 'F', 'ENGR\\n']\n",
      "[['Strasburg', 'Stephen', '1988', 'M']]      ['I', 'Jones', 'Johanna', '1997', 'F', 'ENGL\\n']\n",
      "[['Jones', 'Johann', '1996', 'M']]      ['I', 'Lockhorn', 'Leonard', '1992', 'M', 'CHEM\\n']\n",
      "[['Gomez', 'Maria', '1998', 'F']]      ['I', 'Leiby', 'Nancy', '1998', 'F', 'Math\\n']\n",
      "[['Stanford', ' Lleland', '1965', 'M']]      ['I', 'Gauss', 'Karl', '1940', 'M', 'Phil\\n']\n",
      "[['Lomack', 'Marv', '1971', 'M']]      ['I', 'Ramanajan', 'Sanji', '1976', 'M', 'Math\\n']\n",
      "[['Adams', 'Stuart', '2000', 'M'], ['I', 'Khorkina', 'Svetlana', '1978', 'F']]      ['I', 'Warren', 'Esmerelda', '1976', 'F', 'CS\\n']\n",
      "[['Rizzo', 'Mike', '1962', 'M'], ['I', 'Eaton', 'Adam', '1989', 'M']]      ['I', 'Sagan', 'Carl', '1940', 'M', 'ASTR\\n']\n",
      "[['Rizzo', 'Frank', '1961', 'M']]      ['I', 'Druyan', 'Ann', '1959', 'CHEM\\n']\n",
      "[['Adams', 'Stuart', '2000', 'M'], ['I', 'Khorkina', 'Svetlana', '1978', 'F'], ['I', 'Warren', 'Esmerelda', '1976', 'F']]      ['I', 'Jaegar', 'Karina', '1997', 'F', 'CHEM\\n']\n",
      "[['Snyder', 'Daniel', '1974', 'M']]      ['I', 'Grant', 'James', '1965', 'M', 'ENGR\\n']\n",
      "[['Smith', 'Mary', '1999', 'F'], ['I', 'Smith', 'Mary', '1999', 'F']]      ['I', 'Smith', 'Mary', '1999', 'F', 'ENGR\\n']\n",
      "[['Ali', 'Hassan', '1996', 'M']]      ['I', 'Hardcastle', 'Morvena', '1987', 'F', 'CS\\n']\n",
      "[['Crabbe', 'Henry', '1979', 'M']]      ['I', 'Smits', 'Jimmy', '1998', 'M', 'THEAI', '\\n']\n"
     ]
    }
   ],
   "source": [
    "# Recompute the hash value of each line. Store the entire input record in the HT 'list' slot.\n",
    "# Chain collisions by making the chain a 'list of list'.\n",
    "HT = [None] * HTcapacity\n",
    "for i in inlists:\n",
    "    if i[0] == \"I\": # only handle insertions\n",
    "        HC = Hash(i, mFactor = multFactor)\n",
    "        if HT[HC] is None:\n",
    "            HT[HC] = [i[1:-1]]\n",
    "        else:\n",
    "            #print('type HT[HC]: ', type(HT[HC]), ' type i: ', type(i))\n",
    "            print(HT[HC], '    ', i)\n",
    "            HT[HC].append(i[:-1])\n",
    "            #x = [HT[HC][-1], i]\n",
    "            #HT[HC] = x"
   ]
  },
  {
   "cell_type": "markdown",
   "metadata": {},
   "source": [
    "### Print the Hash Table (HT) contents - from 0 to 101"
   ]
  },
  {
   "cell_type": "code",
   "execution_count": 10,
   "metadata": {},
   "outputs": [
    {
     "name": "stdout",
     "output_type": "stream",
     "text": [
      "index # 0  =  [['Smith', 'Mary', '1999', 'F'], ['I', 'Smith', 'Mary', '1999', 'F'], ['I', 'Smith', 'Mary', '1999', 'F']]\n",
      "index # 1  =  [['Warden', 'Jackie', '1998', 'F']]\n",
      "index # 2  =  None\n",
      "index # 3  =  [['Kaat', 'James', '1959', 'M']]\n",
      "index # 4  =  None\n",
      "index # 5  =  [['Ford', 'Henry', '1972', 'M']]\n",
      "index # 6  =  None\n",
      "index # 7  =  [['Vicente', 'Alfredo', '1979', 'M']]\n",
      "index # 8  =  [['Doan', 'Quang', '1969', 'M']]\n",
      "index # 9  =  [['Rodriguez', 'Hector', '1987', 'M']]\n",
      "index # 10  =  None\n",
      "index # 11  =  [['Zebub', 'Be-el', '1970', 'M']]\n",
      "index # 12  =  None\n",
      "index # 13  =  [['Miller', 'Smuel', '1976', 'M']]\n",
      "index # 14  =  None\n",
      "index # 15  =  None\n",
      "index # 16  =  [['Adams', 'Stuart', '2000', 'M'], ['I', 'Khorkina', 'Svetlana', '1978', 'F'], ['I', 'Warren', 'Esmerelda', '1976', 'F'], ['I', 'Jaegar', 'Karina', '1997', 'F']]\n",
      "index # 17  =  None\n",
      "index # 18  =  None\n",
      "index # 19  =  [['Gomez', 'Maria', '1998', 'F'], ['I', 'Leiby', 'Nancy', '1998', 'F']]\n",
      "index # 20  =  None\n",
      "index # 21  =  [['Rizzo', 'Mike', '1962', 'M'], ['I', 'Eaton', 'Adam', '1989', 'M'], ['I', 'Sagan', 'Carl', '1940', 'M']]\n",
      "index # 22  =  [['Rydell', 'Robert', '1969', 'M']]\n",
      "index # 23  =  None\n",
      "index # 24  =  None\n",
      "index # 25  =  [['Rizzo', 'Frank', '1961', 'M'], ['I', 'Druyan', 'Ann', '1959']]\n",
      "index # 26  =  None\n",
      "index # 27  =  None\n",
      "index # 28  =  [['Desdion', 'Gerard', '1972', 'M']]\n",
      "index # 29  =  None\n",
      "index # 30  =  [['Snyder', 'Daniel', '1974', 'M'], ['I', 'Grant', 'James', '1965', 'M']]\n",
      "index # 31  =  None\n",
      "index # 32  =  [['Das', 'Petra', '1999', 'F']]\n",
      "index # 33  =  None\n",
      "index # 34  =  None\n",
      "index # 35  =  None\n",
      "index # 36  =  None\n",
      "index # 37  =  [['Lord', 'Jonathon', '1941', 'M']]\n",
      "index # 38  =  None\n",
      "index # 39  =  [['Angelos', 'Peter', '1940', 'M']]\n",
      "index # 40  =  [['Warden', 'Jack', '1998', 'M']]\n",
      "index # 41  =  None\n",
      "index # 42  =  [['Miller', 'Samuel', '1974', 'M']]\n",
      "index # 43  =  [['Sherman', 'Maria', '1992', 'F']]\n",
      "index # 44  =  None\n",
      "index # 45  =  [['Disaeli', 'Benjamin', '1825', 'M']]\n",
      "index # 46  =  None\n",
      "index # 47  =  [['Ortiz', 'David', '1980', 'M']]\n",
      "index # 48  =  None\n",
      "index # 49  =  [['Shurman', 'Maria', '1992', 'F']]\n",
      "index # 50  =  [['Garcia', 'Manuel', '1998', 'M']]\n",
      "index # 51  =  [['MacGillacudy', 'Lucille', '1954', 'F']]\n",
      "index # 52  =  [['Smith', 'Marv', '1978', 'M']]\n",
      "index # 53  =  [['Sox', 'Bobby', '1992', 'F']]\n",
      "index # 54  =  None\n",
      "index # 55  =  [['Chamberlain', 'Neville', '1890', 'M']]\n",
      "index # 56  =  None\n",
      "index # 57  =  [['Ford', 'Edsel', '1940', 'M']]\n",
      "index # 58  =  [['Womack', 'Mary', '1972', 'F'], ['I', 'Kelvin', 'Katrina', '1982', 'F'], ['I', 'Kelvin', 'Katrina', '1982', 'F']]\n",
      "index # 59  =  [['Strasburg', 'Stephen', '1988', 'M'], ['I', 'Jones', 'Johanna', '1997', 'F']]\n",
      "index # 60  =  None\n",
      "index # 61  =  None\n",
      "index # 62  =  [['Vicente', 'Alberto', '1979', 'M']]\n",
      "index # 63  =  None\n",
      "index # 64  =  None\n",
      "index # 65  =  [['Stanford', ' Lleland', '1965', 'M'], ['I', 'Gauss', 'Karl', '1940', 'M']]\n",
      "index # 66  =  None\n",
      "index # 67  =  [['Korbut', 'Olga', '1960', 'F']]\n",
      "index # 68  =  None\n",
      "index # 69  =  [['Bryson', 'William', '1997', 'M']]\n",
      "index # 70  =  [['Bryson', 'Wilson', '1998', 'M']]\n",
      "index # 71  =  [['Hopkins', 'Susan', '1954', 'F']]\n",
      "index # 72  =  None\n",
      "index # 73  =  None\n",
      "index # 74  =  [['Martinez', 'David', '1971', 'M']]\n",
      "index # 75  =  None\n",
      "index # 76  =  [['Principato', 'Geraldo', '1994', 'M']]\n",
      "index # 77  =  None\n",
      "index # 78  =  [['SmithSmith', 'Smithy', '1982', 'M']]\n",
      "index # 79  =  [['Thompson', 'Creek', '2000', 'F']]\n",
      "index # 80  =  [['Principle', 'Victoria', '1982', 'F']]\n",
      "index # 81  =  None\n",
      "index # 82  =  None\n",
      "index # 83  =  [['Li', 'Stephanie', '1998', 'F']]\n",
      "index # 84  =  [['Lomack', 'Marv', '1971', 'M'], ['I', 'Ramanajan', 'Sanji', '1976', 'M']]\n",
      "index # 85  =  None\n",
      "index # 86  =  None\n",
      "index # 87  =  None\n",
      "index # 88  =  None\n",
      "index # 89  =  None\n",
      "index # 90  =  None\n",
      "index # 91  =  None\n",
      "index # 92  =  None\n",
      "index # 93  =  None\n",
      "index # 94  =  [['Howard', 'Irene', '1989', 'F']]\n",
      "index # 95  =  [['Kevin', 'Katherine', '1997', 'F']]\n",
      "index # 96  =  [['Ebert', 'Linda', '1991', 'F']]\n",
      "index # 97  =  [['Jones', 'Johann', '1996', 'M'], ['I', 'Lockhorn', 'Leonard', '1992', 'M']]\n",
      "index # 98  =  None\n",
      "index # 99  =  [['Crabbe', 'Henry', '1979', 'M'], ['I', 'Smits', 'Jimmy', '1998', 'M', 'THEAI']]\n",
      "index # 100  =  [['Ali', 'Hassan', '1996', 'M'], ['I', 'Hardcastle', 'Morvena', '1987', 'F']]\n"
     ]
    }
   ],
   "source": [
    "# Print the hash table contents\n",
    "for n in range(0, len(HT)):\n",
    "    print('index #', n, ' = ', HT[n])"
   ]
  },
  {
   "cell_type": "markdown",
   "metadata": {},
   "source": [
    "### Compute and print various performance statistics for the run."
   ]
  },
  {
   "cell_type": "code",
   "execution_count": 12,
   "metadata": {},
   "outputs": [
    {
     "name": "stdout",
     "output_type": "stream",
     "text": [
      "Hash Table size (capacity):                     101\n",
      "# empty HT slots:                                49\n",
      "# occupied HT slots:                             52\n",
      "# items in table (incl. collisions):             70\n",
      "HT load factor:                                0.69\n",
      "# HT collisions:                                 13\n",
      "Average # entries in collision slots:          2.38\n"
     ]
    }
   ],
   "source": [
    "empty = 0            # empty HT slots\n",
    "occupied = 0         # # HT slots occupied (not = None)\n",
    "collisions = 0       # # HT slots with collisions - more than 1 entry at the same place\n",
    "items = 0            # # entries in the table and collision chains\n",
    "chains = 0           # # entries in HT table slots with > 1 entry (i.e. entry is a collision slot)\n",
    "for h in HT:\n",
    "    if h is None:\n",
    "        empty += 1\n",
    "    else:\n",
    "        occupied += 1\n",
    "        items += len(h)\n",
    "        if len(h) > 1:\n",
    "            collisions += 1\n",
    "            chains += len(h)\n",
    "\n",
    "print('Hash Table size (capacity):                {0:8}'.format(HTcapacity))\n",
    "print('# empty HT slots:                          {0:8}'.format(empty))\n",
    "print('# occupied HT slots:                       {0:8}'.format(occupied))\n",
    "print('# items in table (incl. collisions):       {0:8}'.format(items))\n",
    "print('HT load factor:                            {0:8.2f}'.format(items/len(HT)))\n",
    "print('# HT collisions:                           {0:8d}'.format(collisions))\n",
    "print('Average # entries in collision slots:      {0:8.2f}'.format(chains/collisions))"
   ]
  },
  {
   "cell_type": "code",
   "execution_count": null,
   "metadata": {},
   "outputs": [],
   "source": []
  }
 ],
 "metadata": {
  "kernelspec": {
   "display_name": "Python 3",
   "language": "python",
   "name": "python3"
  },
  "language_info": {
   "codemirror_mode": {
    "name": "ipython",
    "version": 3
   },
   "file_extension": ".py",
   "mimetype": "text/x-python",
   "name": "python",
   "nbconvert_exporter": "python",
   "pygments_lexer": "ipython3",
   "version": "3.8.5"
  }
 },
 "nbformat": 4,
 "nbformat_minor": 4
}
